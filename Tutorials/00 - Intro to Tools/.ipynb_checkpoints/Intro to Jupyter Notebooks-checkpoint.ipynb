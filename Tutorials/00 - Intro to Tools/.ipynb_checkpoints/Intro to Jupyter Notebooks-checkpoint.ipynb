{
 "cells": [
  {
   "cell_type": "markdown",
   "metadata": {},
   "source": [
    "# JupyterLab notebooks features overview\n",
    "\n",
    "IPython allows to create a formatted document containing text, equations, and code. There is a WYSIWYG interface: JupyterLab.\n",
    "\n",
    "The document is split into cells. Cells can be of three types:\n",
    "\n",
    "* Code\n",
    "* Markdown (simple wiki markup language)\n",
    "* Raw\n",
    "\n",
    "This current cell is a markdown cell.\n",
    "\n",
    "It is possible to use **bold**, *itallic*, and `verbatim`.\n",
    "\n",
    "    This is some verbatim code.\n",
    "    $ echo \"helloworld\"\n",
    "\n",
    "In addition, it is possible, through Python, to add all sorts of contents (html, video, audio, ...) to the page. This notebook aims at demonstrating these possibilities through a number of practical examples."
   ]
  },
  {
   "cell_type": "markdown",
   "metadata": {},
   "source": [
    "## Numerical cells and plots\n",
    "\n",
    "IPython let's you import easily all the numpy and matplotlib libraries and use them 'Matlab' style."
   ]
  },
  {
   "cell_type": "code",
   "execution_count": null,
   "metadata": {},
   "outputs": [],
   "source": [
    "%pylab inline"
   ]
  },
  {
   "cell_type": "markdown",
   "metadata": {},
   "source": [
    "The `inline` option let's you plot things in the notebook directly."
   ]
  },
  {
   "cell_type": "code",
   "execution_count": null,
   "metadata": {},
   "outputs": [],
   "source": [
    "t = linspace(0,1,200)\n",
    "for i in range(1,20):\n",
    "    plot(t, sin(2*pi*t-t[10*i]))"
   ]
  },
  {
   "cell_type": "code",
   "execution_count": null,
   "metadata": {},
   "outputs": [],
   "source": [
    "pi*2"
   ]
  },
  {
   "cell_type": "markdown",
   "metadata": {},
   "source": [
    "It is possible to give this plot **XKCD** style!"
   ]
  },
  {
   "cell_type": "code",
   "execution_count": null,
   "metadata": {},
   "outputs": [],
   "source": [
    "# Running this in a 'with' allows the style to be temporary\n",
    "with xkcd():\n",
    "    for i in range(1,10):\n",
    "        plot(t, sin(2*pi*t-t[10*i]))"
   ]
  },
  {
   "cell_type": "markdown",
   "metadata": {},
   "source": [
    "## Built-in help\n",
    "\n",
    "In case you need to be reminded of some syntax, several ways are possible. The first is auto-completion."
   ]
  },
  {
   "cell_type": "code",
   "execution_count": null,
   "metadata": {},
   "outputs": [],
   "source": [
    "# t = lins"
   ]
  },
  {
   "cell_type": "markdown",
   "metadata": {},
   "source": [
    "It is also possible to display the docstring of a function."
   ]
  },
  {
   "cell_type": "code",
   "execution_count": null,
   "metadata": {},
   "outputs": [],
   "source": [
    "linspace?"
   ]
  },
  {
   "cell_type": "markdown",
   "metadata": {},
   "source": [
    "The following let's you get even more information and look a the source code."
   ]
  },
  {
   "cell_type": "code",
   "execution_count": null,
   "metadata": {},
   "outputs": [],
   "source": [
    "linspace??"
   ]
  },
  {
   "cell_type": "markdown",
   "metadata": {},
   "source": [
    "## Magic\n",
    "\n",
    "Many [IPython magics](http://ipython.readthedocs.org/en/stable/interactive/magics.html) can also be used in JupyterLab. They can be listed using the `%lsmagic` magic."
   ]
  },
  {
   "cell_type": "code",
   "execution_count": null,
   "metadata": {},
   "outputs": [],
   "source": [
    "%lsmagic"
   ]
  },
  {
   "cell_type": "markdown",
   "metadata": {},
   "source": [
    "One can for example use the `%timeit` magic to compare the runtime of two pieces of code. For example, let's compare a pure Python recursive implementation of the factorial to an implementation using numpy vector routines."
   ]
  },
  {
   "cell_type": "code",
   "execution_count": null,
   "metadata": {},
   "outputs": [],
   "source": [
    "# recursive implementation\n",
    "def factorial_1(n):\n",
    "    if n > 1:\n",
    "        return n*factorial_1(n-1)\n",
    "    else:\n",
    "        return 1\n",
    "    \n",
    "# numpy implementation\n",
    "def factorial_2(n):\n",
    "    return np.prod(np.arange(1,n+1))"
   ]
  },
  {
   "cell_type": "code",
   "execution_count": null,
   "metadata": {},
   "outputs": [],
   "source": [
    "%timeit factorial_1(100)"
   ]
  },
  {
   "cell_type": "code",
   "execution_count": null,
   "metadata": {},
   "outputs": [],
   "source": [
    "%timeit factorial_2(100)"
   ]
  },
  {
   "cell_type": "markdown",
   "metadata": {},
   "source": [
    "## Equations\n",
    "\n",
    "IPython notebooks allow to display equations just by typing in latex. For example, we can write the famous Fourier transform equation as\n",
    "$$\n",
    "\\int_{-\\infty}^\\infty f(t) e^{-i\\omega t} dt.\n",
    "$$\n",
    "\n",
    "It is also possible to add some math in text, for example  a linear system $Ax = b$."
   ]
  },
  {
   "cell_type": "markdown",
   "metadata": {},
   "source": [
    "## Images\n",
    "\n",
    "It is possible to include images in the notebooks, either by adding the HTML tags directly in a markdown cell such as the following:\n",
    "\n",
    "<img src=\"https://www.epfl.ch/campus/services/communication/wp-content/uploads/2019/03/EPFL-Corp-ID-New-Visual-Identity-Logo.png\" width=400>\n",
    "\n",
    "or by using an IPython widget."
   ]
  },
  {
   "cell_type": "code",
   "execution_count": null,
   "metadata": {},
   "outputs": [],
   "source": [
    "from IPython.display import Image\n",
    "# Photos credit: https://commons.wikimedia.org/wiki/File:Rolex_Learning_center.jpg\n",
    "Image('./Data/rlc.jpg', width=800,height=600)"
   ]
  },
  {
   "cell_type": "markdown",
   "metadata": {},
   "source": [
    "## Videos\n",
    "\n",
    "Videos can be embedded in the notebook. For example, here is a YouTube video."
   ]
  },
  {
   "cell_type": "code",
   "execution_count": null,
   "metadata": {},
   "outputs": [],
   "source": [
    "from IPython.display import YouTubeVideo\n",
    "from datetime import timedelta\n",
    "\n",
    "# It is possible to start the video at a specific time\n",
    "start=int(timedelta(hours=0, minutes=0, seconds=0).total_seconds())\n",
    "\n",
    "YouTubeVideo(\"OJy2h9mgiX8\", start=start, autoplay=0, theme=\"light\", color=\"red\")"
   ]
  },
  {
   "cell_type": "markdown",
   "metadata": {},
   "source": [
    "And here is a Vimeo video."
   ]
  },
  {
   "cell_type": "code",
   "execution_count": null,
   "metadata": {},
   "outputs": [],
   "source": [
    "from IPython.display import VimeoVideo\n",
    "\n",
    "VimeoVideo(\"12891305\")"
   ]
  },
  {
   "cell_type": "markdown",
   "metadata": {},
   "source": [
    "Even entire websites can be embedded."
   ]
  },
  {
   "cell_type": "code",
   "execution_count": null,
   "metadata": {},
   "outputs": [],
   "source": [
    "from IPython.display import IFrame\n",
    "\n",
    "IFrame('https://dlab.epfl.ch/teaching/fall2019/cs401/', width=800, height=600)"
   ]
  },
  {
   "cell_type": "markdown",
   "metadata": {},
   "source": [
    "## Audio data\n",
    "\n",
    "JupyterLab also makes it possible to listen to audio data in the browser directly."
   ]
  },
  {
   "cell_type": "code",
   "execution_count": null,
   "metadata": {},
   "outputs": [],
   "source": [
    "from scipy.io import loadmat, wavfile\n",
    "from IPython.lib.display import Audio\n",
    "\n",
    "# import the speech from a wav file\n",
    "r,speech = wavfile.read('Data/german_speech_44100.wav')\n",
    "_,rir = wavfile.read('Data/RIRs.wav')\n",
    "\n",
    "# Add the audio widget\n",
    "print('Speech')\n",
    "display(Audio(data=speech, rate=r))\n",
    "print('Room Impulse Response')\n",
    "display(Audio(data=rir[:,0], rate=r))"
   ]
  },
  {
   "cell_type": "markdown",
   "metadata": {},
   "source": [
    "## Interactive Widgets"
   ]
  },
  {
   "cell_type": "markdown",
   "metadata": {},
   "source": [
    "IPython also allows to create interactive widgets to easily visualize graphs with varying parameters. Unfortunately, the widgets are not preserved when you export to html, but you can embed them in html (see Widgets > Embed). "
   ]
  },
  {
   "cell_type": "code",
   "execution_count": null,
   "metadata": {},
   "outputs": [],
   "source": [
    "from ipywidgets import interact\n",
    "\n",
    "# We need to define a function that takes as arguments the parameters\n",
    "# we would like to play with.\n",
    "def plot_norm(mean=0,sd=5):\n",
    "   \n",
    "    hist(np.random.normal(mean,sd,100000),bins=100)\n",
    "    xlim((-15,15))\n",
    "    title(\"Normal\")\n",
    "\n",
    "# Now we only need to call the interact function\n",
    "# keyword arguments are used to give the parameter ranges\n",
    "interact(plot_norm, mean=(-5,5,10), sd=(0,30,5))"
   ]
  },
  {
   "cell_type": "markdown",
   "metadata": {},
   "source": [
    "## Interactive plots with Bokeh\n",
    "\n",
    "Until now, all the plots we have shown were not interactive, that is, it was not possible to zoom into some part of the graph or moves things around. [Bokeh](http://bokeh.pydata.org) is a Python module that allows just to do that. In style!"
   ]
  },
  {
   "cell_type": "code",
   "execution_count": null,
   "metadata": {},
   "outputs": [],
   "source": [
    "from bokeh.plotting import figure, show, output_notebook\n",
    "output_notebook()"
   ]
  },
  {
   "cell_type": "code",
   "execution_count": null,
   "metadata": {},
   "outputs": [],
   "source": [
    "N = 500\n",
    "\n",
    "x = np.linspace(-10, 10, N)\n",
    "y = np.linspace(-10, 10, N)\n",
    "xx, yy = np.meshgrid(x, y)\n",
    "# d = np.sin(xx)*np.cos(yy)\n",
    "d = (xx**2 + yy**2)**0.7 - 4.*np.sin(2*xx) - 1.8*np.cos(2*yy)\n",
    "\n",
    "p = figure(x_range=[-10, 10], y_range=[-10, 10])\n",
    "p.image(image=[d], x=[-10], y=[-10], dw=[20], dh=[20], palette=\"Spectral11\")\n",
    "\n",
    "show(p)"
   ]
  },
  {
   "cell_type": "markdown",
   "metadata": {},
   "source": [
    "## Magnificient plots with Seaborn"
   ]
  },
  {
   "cell_type": "markdown",
   "metadata": {},
   "source": [
    "[Seaborn](http://stanford.edu/~mwaskom/software/seaborn/index.html) is a Python package that wraps around matplotlib and makes the plots look extremely nice. It adds nice default colormaps and has integrated options for fancy plots.\n",
    "\n",
    "It is not installed by default with Anaconda, so to obtain it type the following in a terminal:\n",
    "\n",
    "    conda install seaborn\n",
    "        \n",
    "To demonstrate it, we have collected tweets containing the following keywords:\n",
    "\n",
    "* reproducible research\n",
    "* ipython notebook\n",
    "* open access\n",
    "* open science\n",
    "* open data\n",
    "* bigdata\n",
    "* epfl\n",
    "\n",
    "This example was mostly taken from this [tutorial](http://adilmoujahid.com/posts/2014/07/twitter-analytics/).\n",
    "\n",
    "To activate seaborn, simply import it. It is possible to set a default palette."
   ]
  },
  {
   "cell_type": "code",
   "execution_count": null,
   "metadata": {},
   "outputs": [],
   "source": [
    "import seaborn as sns\n",
    "\n",
    "# set the default color palette\n",
    "# try other options: 'Blues', sns.cubehelix_palette(8)\n",
    "sns.set_palette('Blues')\n",
    "\n",
    "# Seaborn can also use a context for different purpose\n",
    "# possible values are paper, notebook, talk, and poster\n",
    "sns.set_context(\"notebook\")"
   ]
  },
  {
   "cell_type": "code",
   "execution_count": null,
   "metadata": {},
   "outputs": [],
   "source": [
    "# try to plot our boring old sine curves\n",
    "for i in range(0,10):\n",
    "    plot(t, sin(2*pi*t-t[10*i]))\n",
    "plt.tight_layout()"
   ]
  },
  {
   "cell_type": "markdown",
   "metadata": {},
   "source": [
    "Now we will import the tweets in a [pandas](http://pandas.pydata.org) to do some statistics."
   ]
  },
  {
   "cell_type": "code",
   "execution_count": null,
   "metadata": {},
   "outputs": [],
   "source": [
    "import json\n",
    "import pandas as pd"
   ]
  },
  {
   "cell_type": "code",
   "execution_count": null,
   "metadata": {},
   "outputs": [],
   "source": [
    "tweets_data_path = './Data/twitter_data.txt'\n",
    "\n",
    "tweets_data = []\n",
    "with open(tweets_data_path, \"r\") as tweets_file:\n",
    "    for line in tweets_file:\n",
    "        try:\n",
    "            tweet = json.loads(line)\n",
    "            tweets_data.append(tweet)\n",
    "        except:\n",
    "            continue"
   ]
  },
  {
   "cell_type": "code",
   "execution_count": null,
   "metadata": {},
   "outputs": [],
   "source": [
    "tweets_data[0]['text']"
   ]
  },
  {
   "cell_type": "markdown",
   "metadata": {},
   "source": [
    "Let's build a data frame to better handle our data."
   ]
  },
  {
   "cell_type": "code",
   "execution_count": null,
   "metadata": {},
   "outputs": [],
   "source": [
    "tweets = pd.DataFrame()\n",
    "\n",
    "fields = ['text','lang']\n",
    "for f in fields:\n",
    "    tweets[f] = list(map(lambda tweet: tweet[f], tweets_data))\n",
    "\n",
    "tweets['country'] = list(map(lambda tweet: tweet['place']['country'] if tweet['place'] != None else None, tweets_data))\n",
    "tweets['username'] = list(map(lambda tweet: tweet['user']['screen_name'], tweets_data))\n",
    "tweets['followers_count'] = list(map(lambda tweet: tweet['user']['followers_count'], tweets_data))\n",
    "tweets['time_zone'] = list(map(lambda tweet: tweet['user']['time_zone'], tweets_data))\n",
    "\n",
    "tweets['text_len'] = list(map(lambda tweet: len(tweet), tweets['text']))\n",
    "\n",
    "print('We got',len(tweets_data),'tweets.')"
   ]
  },
  {
   "cell_type": "code",
   "execution_count": null,
   "metadata": {},
   "outputs": [],
   "source": [
    "tweets.head()"
   ]
  },
  {
   "cell_type": "markdown",
   "metadata": {},
   "source": [
    "On list comprehensions and anonymous functions"
   ]
  },
  {
   "cell_type": "code",
   "execution_count": null,
   "metadata": {},
   "outputs": [],
   "source": [
    "# list comprehensions\n",
    "my_list = [x for x in range(10)]\n",
    "print(my_list)\n",
    "# map and anonymous functions\n",
    "my_list = list(map(lambda x:x+1, my_list))\n",
    "print(my_list)"
   ]
  },
  {
   "cell_type": "markdown",
   "metadata": {},
   "source": [
    "Now we want to analyze words appearing in the tweets. We will apply a regular expression to detect keywords in the text of the tweets. Then we plot a histogram of the data to see which keywords are popular."
   ]
  },
  {
   "cell_type": "code",
   "execution_count": null,
   "metadata": {},
   "outputs": [],
   "source": [
    "import re"
   ]
  },
  {
   "cell_type": "code",
   "execution_count": null,
   "metadata": {},
   "outputs": [],
   "source": [
    "# a helper function to apply the regexp\n",
    "def word_in_text(words, text):\n",
    "    words = re.sub('s+','s*', '|'.join(words))\n",
    "    text = text.lower()\n",
    "    match = re.search(words, text)\n",
    "    if match:\n",
    "        return True\n",
    "    return False"
   ]
  },
  {
   "cell_type": "code",
   "execution_count": null,
   "metadata": {},
   "outputs": [],
   "source": [
    "print(word_in_text(['open science','epfl'],'open science at epfl is great'))\n",
    "print(word_in_text(['open science','epfl'],'open science is great'))\n",
    "print(word_in_text(['open science','epfl'],'science is great'))"
   ]
  },
  {
   "cell_type": "code",
   "execution_count": null,
   "metadata": {},
   "outputs": [],
   "source": [
    "# actually apply the regexp\n",
    "keywords = ['open access', 'open science', 'ipython', 'open data', 'reproducible research','epfl']\n",
    "for w in keywords:\n",
    "    tweets[w] = tweets['text'].apply(lambda tweet: word_in_text([w], tweet))\n",
    "    \n",
    "tweets_by_kw = pd.Series([tweets[w].value_counts()[True] for w in keywords], index=keywords)"
   ]
  },
  {
   "cell_type": "code",
   "execution_count": null,
   "metadata": {},
   "outputs": [],
   "source": [
    "tweets_by_kw"
   ]
  },
  {
   "cell_type": "markdown",
   "metadata": {},
   "source": [
    "Seaborn has specialized routine to plot dataframes from pandas. We make use of that to plot the histogram."
   ]
  },
  {
   "cell_type": "code",
   "execution_count": null,
   "metadata": {},
   "outputs": [],
   "source": [
    "def nice_bar_plot(xlbl, data, n):\n",
    "    \n",
    "    fig, ax = plt.subplots()\n",
    "    ax.set_title('Our ' + str(n) + ' ' + xlbl, fontsize=15, fontweight='bold')\n",
    "    sns.barplot(data[:n].keys(), data[:n], ax=ax)\n",
    "    locs, labels = plt.xticks()\n",
    "    plt.setp(labels, rotation=90)\n",
    "    \n",
    "nice_bar_plot('popular topics', tweets_by_kw, 6)"
   ]
  },
  {
   "cell_type": "markdown",
   "metadata": {},
   "source": [
    "We would like to get some idea of the distribution of the length of the tweets in each of these category. Let us categorize each tweet and then display some boxplot. Again, seaborn allows to do that fairly easily."
   ]
  },
  {
   "cell_type": "code",
   "execution_count": null,
   "metadata": {},
   "outputs": [],
   "source": [
    "# Here we want to tag each tweet with a category\n",
    "tweets['category'] = np.nan\n",
    "for kw in keywords:\n",
    "    tweets.loc[tweets[kw] == True,'category'] = kw"
   ]
  },
  {
   "cell_type": "code",
   "execution_count": null,
   "metadata": {},
   "outputs": [],
   "source": [
    "tweets['category'][:10]"
   ]
  },
  {
   "cell_type": "code",
   "execution_count": null,
   "metadata": {},
   "outputs": [],
   "source": [
    "sns.set(style=\"ticks\", color_codes=True)\n",
    "\n",
    "# Plot the text length with horizontal boxes\n",
    "ax = sns.boxplot(x=\"text_len\", y=\"category\", data=tweets,\n",
    "                 whis=np.inf)\n",
    "\n",
    "# Add in points to show each tweet\n",
    "sns.stripplot(x=\"text_len\", y=\"category\", data=tweets,\n",
    "              jitter=True, size=3, color=\".3\", linewidth=0)\n",
    "\n",
    "# This removes top and right axis\n",
    "sns.despine(trim=False)"
   ]
  },
  {
   "cell_type": "markdown",
   "metadata": {},
   "source": [
    "## Conclusion\n",
    "\n",
    "IPython offers great tools both for computional experiments and to share these experiments in a visually enticing way.\n",
    "\n",
    "The notebook format can be shared as is to allow someone else to play with the data, or it can be converted to a format that allow for displaying such as HTML, LaTeX, PDF, etc. To do so, use the `ipython nbconvert` utility in the terminal."
   ]
  },
  {
   "cell_type": "markdown",
   "metadata": {},
   "source": [
    "## Exercises\n",
    "\n",
    "* Consider the first plot we saw (below). Add a title, labels to the axes, add another function plot with a different color and add a legend for both. See [this gallery of examples for inspiration](https://matplotlib.org/gallery.html). "
   ]
  },
  {
   "cell_type": "code",
   "execution_count": null,
   "metadata": {},
   "outputs": [],
   "source": [
    "t = linspace(0,1,200)\n",
    "for i in range(1,20):\n",
    "    plot(t, sin(2*pi*t-t[10*i]))"
   ]
  },
  {
   "cell_type": "markdown",
   "metadata": {},
   "source": [
    "* Recover the normal distribution interactive widget we saw before. Add an extra feature allowing the user to skew the distribution making it fatter on a side (e.g. the right side). Take a look at [this](https://docs.scipy.org/doc/scipy/reference/generated/scipy.stats.skewnorm.html), it might help."
   ]
  },
  {
   "cell_type": "code",
   "execution_count": null,
   "metadata": {},
   "outputs": [],
   "source": [
    "from ipywidgets import interact\n",
    "\n",
    "# Start by fattening the function distribution here\n",
    "def plot_norm(mean=0,sd=5):\n",
    "   \n",
    "    hist(np.random.normal(mean,sd,100000),bins=100)\n",
    "    xlim((-15,15))\n",
    "    title(\"Normal\")\n",
    "\n",
    "# Add a new parameter to control the fatness of the distribution side\n",
    "interact(plot_norm, mean=(-5,5,10), sd=(0,30,5))"
   ]
  },
  {
   "cell_type": "code",
   "execution_count": null,
   "metadata": {},
   "outputs": [],
   "source": []
  }
 ],
 "metadata": {
  "kernelspec": {
   "display_name": "Python 3",
   "language": "python",
   "name": "python3"
  },
  "language_info": {
   "codemirror_mode": {
    "name": "ipython",
    "version": 3
   },
   "file_extension": ".py",
   "mimetype": "text/x-python",
   "name": "python",
   "nbconvert_exporter": "python",
   "pygments_lexer": "ipython3",
   "version": "3.7.4"
  },
  "toc": {
   "colors": {
    "hover_highlight": "#DAA520",
    "navigate_num": "#000000",
    "navigate_text": "#333333",
    "running_highlight": "#FF0000",
    "selected_highlight": "#FFD700",
    "sidebar_border": "#EEEEEE",
    "wrapper_background": "#FFFFFF"
   },
   "moveMenuLeft": true,
   "nav_menu": {
    "height": "228px",
    "width": "252px"
   },
   "navigate_menu": true,
   "number_sections": true,
   "sideBar": true,
   "threshold": 4,
   "toc_cell": false,
   "toc_section_display": "block",
   "toc_window_display": false,
   "widenNotebook": false
  }
 },
 "nbformat": 4,
 "nbformat_minor": 4
}
