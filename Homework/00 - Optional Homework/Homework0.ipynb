{
 "cells": [
  {
   "cell_type": "code",
   "execution_count": 2,
   "metadata": {},
   "outputs": [
    {
     "name": "stderr",
     "output_type": "stream",
     "text": [
      " 2019-09-26 08:19:27,979 - DEBUG - Deaths: 8991 (intent: Suicide, gender: Male, age: 35 - 64, race: None selected)\n",
      " 2019-09-26 08:19:27,987 - DEBUG - Deaths: 4656 (intent: Suicide, gender: Male, age: 65+, race: None selected)\n",
      " 2019-09-26 08:19:27,999 - DEBUG - Deaths: 21058 (intent: Suicide, gender: None selected, age: None selected, race: None selected)\n",
      " 2019-09-26 08:19:28,008 - DEBUG - Deaths: 55 (intent: Homicide, gender: Male, age: Under 15, race: Black)\n",
      " 2019-09-26 08:19:28,015 - DEBUG - Deaths: 4312 (intent: Homicide, gender: Male, age: 15 - 34, race: Black)\n",
      " 2019-09-26 08:19:28,023 - DEBUG - Deaths: 9935 (intent: Homicide, gender: Male, age: None selected, race: None selected)\n"
     ]
    },
    {
     "name": "stdout",
     "output_type": "stream",
     "text": [
      "0.6480672428530725\n",
      "0.43955712128837443\n"
     ]
    }
   ],
   "source": [
    "import csv\n",
    "import logging\n",
    "\n",
    "logging.basicConfig(level=logging.DEBUG, format=' %(asctime)s - %(levelname)s - %(message)s')\n",
    "    \n",
    "def browser(intent='None selected', gender='None selected',age='None selected',race='None selected'):\n",
    "    with open(\"interactive_data.csv\", newline='\\n') as csv_file:\n",
    "        reader = csv.reader(csv_file, delimiter=';', quotechar='\"')\n",
    "        output = ''\n",
    "        for line in reader: # goes through lines of the csv file\n",
    "            #logging.debug(str(line))\n",
    "            line_list = [i.replace('\"','') for i in line[0].split(',')] # modifies the lines: makes a list and removes superflous \"\n",
    "            if line_list[0] == '': # the header line has and empty index, this is used to check if the current line is the header line\n",
    "                choice_dict = dict(zip(line_list[1:5], [[],[],[],[]])) # initializes choices dictionary with header names as key and empty lists for values, used to store different possibilities for variables\n",
    "            else:\n",
    "                for i in range(1,5): # indexes 1 to 4 are the different variables intent, gender, age and race\n",
    "                    if line_list[i] not in choice_dict[list(choice_dict.keys())[i-1]] and line_list[i] != 'None selected': # each variable value is checked and added to the choices dictionary if it is not in there yet\n",
    "                        choice_dict[list(choice_dict.keys())[i-1]].append(line_list[i]) # adds new variable values\n",
    "                if line_list[1] == intent and line_list[2] == gender and line_list[3] == age and line_list[4] == race: # checks if the parameters passed are the same as in the current line\n",
    "                    output = \"Deaths: %s (intent: %s, gender: %s, age: %s, race: %s)\" % (line_list[5], line_list[1], line_list[2], line_list[3], line_list[4]) # prepares a string that contains choices and results\n",
    "                    out_value = int(line_list[5]) # the actual numerical result of the search (number of deaths)\n",
    "        if output == '': # checks if there was line with fitting parameters\n",
    "            logging.debug('No data fitting the parameters...\\nPossible choices:\\n\\tIntent: %s\\n\\tGender: %s\\n\\tAge: %s\\n\\tRace: %s\\n' % (choice_dict['Intent'], choice_dict['Gender'], choice_dict['Age'], choice_dict['Race'])) # gives out a message with the possible choices\n",
    "            return 1 # default 1 istead of 0, to not screw up divisions (sure there must be a better way)\n",
    "        else:\n",
    "            logging.debug(output) # prints out string message with info\n",
    "            return out_value # gives out numerical result\n",
    "\n",
    "print((browser(intent='Suicide', gender='Male', age='35 - 64')+browser(intent='Suicide', gender='Male', age='65+'))/browser(intent='Suicide')) # percentage of suicides comitted by males above age 35\n",
    "print((browser(intent='Homicide',gender='Male', age='Under 15', race='Black')+browser(intent='Homicide',gender='Male', age='15 - 34', race='Black'))/browser(intent='Homicide',gender='Male'))"
   ]
  }
 ],
 "metadata": {
  "kernelspec": {
   "display_name": "Python 3",
   "language": "python",
   "name": "python3"
  },
  "language_info": {
   "codemirror_mode": {
    "name": "ipython",
    "version": 3
   },
   "file_extension": ".py",
   "mimetype": "text/x-python",
   "name": "python",
   "nbconvert_exporter": "python",
   "pygments_lexer": "ipython3",
   "version": "3.7.4"
  }
 },
 "nbformat": 4,
 "nbformat_minor": 4
}
