{
 "cells": [
  {
   "cell_type": "code",
   "execution_count": null,
   "metadata": {},
   "outputs": [],
   "source": [
    "import csv\n",
    "\n",
    "with open(\"interactive_data.csv\", newline='\\n') as csv_file:\n",
    "    reader = csv.reader(csv_file, delimiter=';', quotechar='\"')\n",
    "    for line in reader:\n",
    "        try:\n",
    "            line_list = [i.replace('\"','') for i in line[0].split(',')]\n",
    "            # different constraints\n",
    "            if line_list[1:5]==['Suicide', 'None selected', 'None selected', 'None selected']: # searches for line with total number of suicides, regardless of gender, age, race\n",
    "                total_suicides = int(line_list[5])\n",
    "            if line_list[1:5] == ['None selected', 'None selected', 'None selected', 'None selected']: # total number of gunshot deaths, regardless of gender, age, race\n",
    "                total_deaths = int(line_list[5])\n",
    "            if line_list[2:5] == ['None selected', 'None selected', 'None selected']:\n",
    "                print(line_list[1], line_list[5])\n",
    "        except:\n",
    "            continue\n",
    "    print(str(100*total_suicides/total_deaths)[:5] + '% of gunshot deaths are suicides')"
   ]
  }
 ],
 "metadata": {
  "kernelspec": {
   "display_name": "Python 3",
   "language": "python",
   "name": "python3"
  },
  "language_info": {
   "codemirror_mode": {
    "name": "ipython",
    "version": 3
   },
   "file_extension": ".py",
   "mimetype": "text/x-python",
   "name": "python",
   "nbconvert_exporter": "python",
   "pygments_lexer": "ipython3",
   "version": "3.7.4"
  }
 },
 "nbformat": 4,
 "nbformat_minor": 4
}
